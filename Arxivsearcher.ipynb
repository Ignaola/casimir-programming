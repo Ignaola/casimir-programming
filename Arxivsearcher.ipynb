{
 "cells": [
  {
   "cell_type": "markdown",
   "metadata": {},
   "source": [
    "This will get the abstract from Arxiv\n",
    "\n"
   ]
  },
  {
   "cell_type": "code",
   "execution_count": 127,
   "metadata": {
    "collapsed": false
   },
   "outputs": [
    {
     "name": "stdout",
     "output_type": "stream",
     "text": [
      "Overwriting functionsq.py\n"
     ]
    }
   ],
   "source": [
    "%%writefile functionsq.py\n",
    "def make_url(query, n=1):\n",
    "    \"\"\"\n",
    "    this function get a API formated query and\n",
    "    return the full path query to use as an argument in \n",
    "    feedparser\n",
    "    imputs:\n",
    "    query: string formated as a API query\n",
    "    n: integer \n",
    "    \n",
    "    \"\"\"\n",
    "    return 'http://export.arxiv.org/api/query?search_query={0}&start={1}&max_results=100'.format(query,n)\n"
   ]
  },
  {
   "cell_type": "code",
   "execution_count": 128,
   "metadata": {
    "collapsed": false
   },
   "outputs": [],
   "source": [
    "import feedparser\n",
    "import urllib.request\n",
    "import functionsq as fff # may be not a good name convention\n",
    "\n",
    "#data = urllib.request.urlopen(url).read()\n",
    "query='abs:+novel+OR+ti:+novel/0/1/0/2016/0/1/'\n",
    "ind=0"
   ]
  },
  {
   "cell_type": "code",
   "execution_count": 129,
   "metadata": {
    "collapsed": false
   },
   "outputs": [
    {
     "name": "stdout",
     "output_type": "stream",
     "text": [
      "100\n",
      "total number of publications in 2016 which have the word\n",
      " \"novel\" in their title or astract is 200\n"
     ]
    }
   ],
   "source": [
    "url=fff.make_url(query,ind)\n",
    "d=feedparser.parse(url)\n",
    "print(len(d.entries))\n",
    "leng_query=1000\n",
    "while len(d.entries)==leng_query:\n",
    "    ind+=1\n",
    "    url=fff.make_url(query,leng_query*ind)\n",
    "    d=feedparser.parse(url)\n",
    "    \n",
    "print('total number of publications in 2016 which have the word\\n \"novel\" in their title or astract is', 100*(ind+1)+len(d.entries))\n",
    "\n",
    "#ee[0].get('title')\n"
   ]
  },
  {
   "cell_type": "code",
   "execution_count": 132,
   "metadata": {
    "collapsed": false
   },
   "outputs": [
    {
     "data": {
      "text/plain": [
       "'http://export.arxiv.org/api/query?search_query=abs:+novel+OR+ti:+novel/0/1/0/2016/0/1/&start=0&max_results=100'"
      ]
     },
     "execution_count": 132,
     "metadata": {},
     "output_type": "execute_result"
    }
   ],
   "source": [
    "url\n"
   ]
  },
  {
   "cell_type": "code",
   "execution_count": null,
   "metadata": {
    "collapsed": false
   },
   "outputs": [],
   "source": []
  },
  {
   "cell_type": "code",
   "execution_count": 131,
   "metadata": {
    "collapsed": false
   },
   "outputs": [
    {
     "name": "stdout",
     "output_type": "stream",
     "text": [
      "Large angle Beamstrahlung as a beam-beam monitoring tool\n",
      "Design and Modeling of a Mems-Based Valveless Pump Driven by an\n",
      "  Electromagnetic Force\n",
      "On the Laplacian of 1/r\n",
      "Protein Structure Determination Using Chemical Shifts\n",
      "Numerical solution to the Bloch equations, paramagnetic solutions under\n",
      "  wideband continuous radio frequency irradiation in a pulsed magnetic field\n",
      "A perturbative approach to the confinement-deconfinement phase\n",
      "  transition\n",
      "Particle Physics challenges to the Bohm Picture of Relativistic Quantum\n",
      "  Field Theory\n",
      "The Large N Harmonic Oscillator as a String Theory\n",
      "Design and Analysis of a Novel $\\mathcal{L}_1$ Adaptive Control\n",
      "  Architecture with Guaranteed Transient Performance\n",
      "Beyond the `Pentagon Identity'\n",
      "A novel isospectral deformation chain in supersymmetric quantum\n",
      "  mechanics\n",
      "WDVV Equations\n",
      "Haantjes Manifolds and Veselov Systems\n",
      "Polyhedron Volume-Ratio-based Classification for Image Recognition\n",
      "Mapping axonal density and average diameter using non-monotonic\n",
      "  time-dependent gradient-echo MRI\n",
      "Ivan Franko's novel Dlja domashnjoho ohnyshcha (For the Hearth) in the\n",
      "  light of the frequency dictionary\n",
      "Bayesian Prediction for The Winds of Winter\n",
      "Graph Kernels exploiting Weisfeiler-Lehman Graph Isomorphism Test\n",
      "  Extensions\n",
      "Wide field aplanatic two-mirror telescopes for ground-based gamma-ray\n",
      "  astronomy\n",
      "Comment on \"Novel Convective Instabilities in a Magnetic Fluid\"\n",
      "Comment on \"Classifying Novel Phases of Spinor Atoms\"\n",
      "Correlation over Decomposed Signals: A Non-Linear Approach to Fast and\n",
      "  Effective Sequences Comparison\n",
      "The Immortal Bel-Robinson Tensor\n",
      "Gravitoelectromagnetic inflation from a 5D vacuum state: a new formalism\n",
      "Special functions as structure constants for new infinite-dimensional\n",
      "  algebras\n",
      "Large N Matrix Field Theories\n",
      "A confining string theory derived from QCD\n",
      "A q-deformed Quantum Mechanics\n",
      "Divided Differences\n",
      "Combinatorial identities for binary necklaces from exact ray-splitting\n",
      "  trace formulae\n",
      "Curves and The Photon\n",
      "A Novel Scaled Boundary Finite Element Method in Computational\n",
      "  Electromagnetics\n",
      "Organization of Ecosystems in the Vicinity of a Novel Phase Transition\n",
      "Entanglement Purification through Zeno-like Measurements\n",
      "A Novel Piezoelectric Microtransformer for Autonmous Sensors\n",
      "  Applications\n",
      "Quantum Interference: an experimental proposal, and possible Engineering\n",
      "  applications\n",
      "General method of solution of Schwinger-Dyson equations in Minkowski\n",
      "  space\n",
      "The quantum spin Hall effect and topological insulators\n",
      "Using electrowetting to control interface motion in patterned\n",
      "  microchannels\n",
      "Scaling conditional tail probability and quantile estimators\n",
      "Modelling outliers and structural breaks in dynamic linear models with a\n",
      "  novel use of a heavy tailed prior for the variances: An alternative to the\n",
      "  Inverted Gamma\n",
      "On a Variation of the Definition of Limit: Some Analytic Consequences\n",
      "A novel type of spiral wave with trapped ions\n",
      "Glass-forming photoactive cholesteric materials doped by quantum dots:\n",
      "  phototunable circularly-polarized emission\n",
      "Massless particles and arrow of time in relativistic quantum field\n",
      "  theory\n",
      "Symmetry problem\n",
      "Hydex waveguides for nonlinear optics\n",
      "Fast, memory efficient low-rank approximation of SimRank\n",
      "GPU accelerated image reconstruction in a two-strip J-PET tomograph\n",
      "Exploiting Correlation among Data Items for Cache Replacement in Ad-hoc\n",
      "  Networks\n",
      "Thermodynamic expansion to arbitrary moduli\n",
      "Novel nonlinear kinetic terms for gravitons\n",
      "Comment on decoherence by time dilation\n",
      "Separating Topological Noise from Features using Persistent Entropy\n",
      "Exotic Quantum Order in Low-Dimensional Systems\n",
      "Fractional-flux vortices and spin superfluidity in triplet\n",
      "  superconductors\n",
      "Noise in Disordered Systems: Higher Order Spectra in Avalanche Models\n",
      "Quadratic solitons as nonlocal solitons\n",
      "Strange Disoriented Chiral Condensate\n",
      "Control momentum entanglement with atomic spontaneously generated\n",
      "  coherence\n",
      "Atom--photon momentum entanglement with quantum interference\n",
      "Drug-therapy networks and the predictions of novel drug targets\n",
      "Equations for hidden Markov models\n",
      "Coherent-state phase concentration by quantum probabilistic\n",
      "  amplification\n",
      "Non-volatile Complementary Resistive Switch-based Content Addressable\n",
      "  Memory\n",
      "Analytic Continuation of weighted q-Genocchi numbers and polynomials\n",
      "Planning of Cellular Networks Enhanced by Energy Harvesting\n",
      "Perceptron Mistake Bounds\n",
      "Color entanglement for $γ$-jet production in polarized pA\n",
      "  collisions\n",
      "Comparing Writing Styles using Word Embedding and Dynamic Time Warping\n",
      "Matroid Filtrations and Computational Persistent Homology\n",
      "Learning like a Child: Fast Novel Visual Concept Learning from Sentence\n",
      "  Descriptions of Images\n",
      "Quantum superposition of multiple clones and the novel cloning machine\n",
      "A Derivative-Free Approach to Total Variation Regularization\n",
      "Wave Energy Amplification in a Metamaterial based Traveling Wave\n",
      "  Structure\n",
      "Anisotropic magnetoresistance in topological insulator\n",
      "  Bi1.5Sb0.5Te1.8Se1.2/CoFe heterostructures\n",
      "On the graph-theoretical interpretation of Pearson correlations in a\n",
      "  multivariate process and a novel partial correlation measure\n",
      "Pose Induction for Novel Object Categories\n",
      "Noise Robustness of a Combined Phase Retrieval and Reconstruction Method\n",
      "  for Phase-Contrast Tomography\n",
      "Parallel Metropolis chains with cooperative adaptation\n",
      "The Nature of Dark Matter\n",
      "The Dark Side of the Universe\n",
      "Neutron Star Masses, Radii and Equation of State\n",
      "Diffusive conductors as Andreev interferometers\n",
      "High Temperature Superconductivity\n",
      "The Gradient Expansion for the Free-Energy of a Clean Superconductor\n",
      "Ground-State Properties of the Two-Band Model for Halogen-Bridged Metal\n",
      "  Complexes\n",
      "The dimer-RVB State of the Four-Leg Heisenberg Ladder: Interference\n",
      "  among Resonances\n",
      "Q-Factor Measurement of Nonlinear Superconducting Resonators\n",
      "Broken Symmetry and Josephson-like Tunneling in Quantum Hall Bilayers\n",
      "Superstring representation of Hubbard model\n",
      "Large grain boundary area superconductors\n",
      "Dephasing of Atomic Tunneling by Nuclear Quadrupoles\n",
      "Approaches to Network Classification\n",
      "A Novel Approach Applied to the Largest Clique Problem\n",
      "Generation of spatially-separated spin entanglement in a triple quantum\n",
      "  dot system\n",
      "Inhomogeneous superconductivity and the \"pseudogap state of novel\n",
      "  superconductors\n",
      "All Superlinear Inverse Schemes are coNP-Hard\n",
      "Statistical Parameters of the Novel \"Perekhresni stezhky\" (\"The\n",
      "  Cross-Paths\") by Ivan Franko\n",
      "Finding Cliques of a Graph using Prime Numbers\n"
     ]
    }
   ],
   "source": [
    "\n",
    "\n",
    "d=feedparser.parse(url)\n",
    "for i in range(100):\n",
    "    print(d.entries[i].title)"
   ]
  },
  {
   "cell_type": "code",
   "execution_count": 117,
   "metadata": {
    "collapsed": false
   },
   "outputs": [],
   "source": [
    "import functions"
   ]
  },
  {
   "cell_type": "code",
   "execution_count": 118,
   "metadata": {
    "collapsed": false
   },
   "outputs": [
    {
     "ename": "AttributeError",
     "evalue": "module 'functions' has no attribute 'area'",
     "output_type": "error",
     "traceback": [
      "\u001b[0;31m---------------------------------------------------------------------------\u001b[0m",
      "\u001b[0;31mAttributeError\u001b[0m                            Traceback (most recent call last)",
      "\u001b[0;32m<ipython-input-118-09eadd8319be>\u001b[0m in \u001b[0;36m<module>\u001b[0;34m()\u001b[0m\n\u001b[0;32m----> 1\u001b[0;31m \u001b[0mfunctions\u001b[0m\u001b[0;34m.\u001b[0m\u001b[0marea\u001b[0m\u001b[0;34m(\u001b[0m\u001b[0;36m1\u001b[0m\u001b[0;34m)\u001b[0m\u001b[0;34m\u001b[0m\u001b[0m\n\u001b[0m",
      "\u001b[0;31mAttributeError\u001b[0m: module 'functions' has no attribute 'area'"
     ]
    }
   ],
   "source": []
  },
  {
   "cell_type": "code",
   "execution_count": null,
   "metadata": {
    "collapsed": true
   },
   "outputs": [],
   "source": []
  }
 ],
 "metadata": {
  "anaconda-cloud": {},
  "kernelspec": {
   "display_name": "Python [default]",
   "language": "python",
   "name": "python3"
  },
  "language_info": {
   "codemirror_mode": {
    "name": "ipython",
    "version": 3
   },
   "file_extension": ".py",
   "mimetype": "text/x-python",
   "name": "python",
   "nbconvert_exporter": "python",
   "pygments_lexer": "ipython3",
   "version": "3.5.2"
  }
 },
 "nbformat": 4,
 "nbformat_minor": 1
}
