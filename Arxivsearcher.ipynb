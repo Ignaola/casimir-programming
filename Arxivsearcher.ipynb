{
 "cells": [
  {
   "cell_type": "markdown",
   "metadata": {},
   "source": [
    "This will get the abstract from Arxiv\n",
    "\n"
   ]
  },
  {
   "cell_type": "code",
   "execution_count": 21,
   "metadata": {
    "collapsed": false
   },
   "outputs": [
    {
     "name": "stdout",
     "output_type": "stream",
     "text": [
      "1\n"
     ]
    }
   ],
   "source": [
    "from collections import Counter\n",
    "import urllib2\n",
    "\n",
    "url = 'http://export.arxiv.org/api/query?search_query=all:electron&start=0&max_results=100'\n",
    "data = urllib.urlopen(url).read()\n",
    "\n",
    "words = data.split()\n",
    "count=0\n",
    "for w in words:\n",
    "    if 'Novel'==w:\n",
    "        count+=1\n",
    "    if 'novel'==w:\n",
    "        count+=1\n",
    "# print(data)\n",
    "print(count)"
   ]
  },
  {
   "cell_type": "code",
   "execution_count": null,
   "metadata": {
    "collapsed": true
   },
   "outputs": [],
   "source": []
  }
 ],
 "metadata": {
  "anaconda-cloud": {},
  "kernelspec": {
   "display_name": "Python 2",
   "language": "python",
   "name": "python2"
  },
  "language_info": {
   "codemirror_mode": {
    "name": "ipython",
    "version": 2
   },
   "file_extension": ".py",
   "mimetype": "text/x-python",
   "name": "python",
   "nbconvert_exporter": "python",
   "pygments_lexer": "ipython2",
   "version": "2.7.11"
  }
 },
 "nbformat": 4,
 "nbformat_minor": 1
}
