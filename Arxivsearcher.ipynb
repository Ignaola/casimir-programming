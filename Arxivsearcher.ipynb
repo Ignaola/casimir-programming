{
 "cells": [
  {
   "cell_type": "markdown",
   "metadata": {},
   "source": [
    "This will get the abstract from Arxiv\n",
    "\n"
   ]
  },
  {
   "cell_type": "code",
   "execution_count": 1,
   "metadata": {
    "collapsed": false
   },
   "outputs": [
    {
     "name": "stdout",
     "output_type": "stream",
     "text": [
      "Overwriting functionsq.py\n"
     ]
    }
   ],
   "source": [
    "%%writefile functionsq.py\n",
    "def make_url(query, n=1):\n",
    "    \"\"\"\n",
    "    this function get a API formated query and\n",
    "    return the full path query to use as an argument in \n",
    "    feedparser\n",
    "    imputs:\n",
    "    query: string formated as a API query\n",
    "    n: integer \n",
    "    \n",
    "    \"\"\"\n",
    "    return 'http://export.arxiv.org/api/query?search_query={0}&start={1}&max_results=1000'.format(query,n)\n"
   ]
  },
  {
   "cell_type": "code",
   "execution_count": 3,
   "metadata": {
    "collapsed": false
   },
   "outputs": [
    {
     "name": "stdout",
     "output_type": "stream",
     "text": [
      "http://export.arxiv.org/api/query?search_query=abs:+novel+OR+ti:+novel/0/1/0/2016/0/1/&start=0&max_results=1000\n"
     ]
    }
   ],
   "source": [
    "import feedparser\n",
    "import urllib.request\n",
    "import functionsq as fff # may be not a good name convention\n",
    "\n",
    "#data = urllib.request.urlopen(url).read()\n",
    "query='abs:+novel+OR+ti:+novel/0/1/0/2016/0/1/'\n",
    "ind=0\n",
    "print(fff.make_url(query,ind)) \n",
    "#d=feedparser.parse(url)"
   ]
  },
  {
   "cell_type": "code",
   "execution_count": 4,
   "metadata": {
    "collapsed": false
   },
   "outputs": [
    {
     "name": "stdout",
     "output_type": "stream",
     "text": [
      "1000\n"
     ]
    },
    {
     "ename": "KeyboardInterrupt",
     "evalue": "",
     "output_type": "error",
     "traceback": [
      "\u001b[0;31m---------------------------------------------------------------------------\u001b[0m",
      "\u001b[0;31mKeyboardInterrupt\u001b[0m                         Traceback (most recent call last)",
      "\u001b[0;32m<ipython-input-4-6d24528a0ce8>\u001b[0m in \u001b[0;36m<module>\u001b[0;34m()\u001b[0m\n\u001b[1;32m      6\u001b[0m     \u001b[0mind\u001b[0m\u001b[0;34m+=\u001b[0m\u001b[0;36m1\u001b[0m\u001b[0;34m\u001b[0m\u001b[0m\n\u001b[1;32m      7\u001b[0m     \u001b[0murl\u001b[0m\u001b[0;34m=\u001b[0m\u001b[0mfff\u001b[0m\u001b[0;34m.\u001b[0m\u001b[0mmake_url\u001b[0m\u001b[0;34m(\u001b[0m\u001b[0mquery\u001b[0m\u001b[0;34m,\u001b[0m\u001b[0mleng_query\u001b[0m\u001b[0;34m*\u001b[0m\u001b[0mind\u001b[0m\u001b[0;34m)\u001b[0m\u001b[0;34m\u001b[0m\u001b[0m\n\u001b[0;32m----> 8\u001b[0;31m     \u001b[0md\u001b[0m\u001b[0;34m=\u001b[0m\u001b[0mfeedparser\u001b[0m\u001b[0;34m.\u001b[0m\u001b[0mparse\u001b[0m\u001b[0;34m(\u001b[0m\u001b[0murl\u001b[0m\u001b[0;34m)\u001b[0m\u001b[0;34m\u001b[0m\u001b[0m\n\u001b[0m\u001b[1;32m      9\u001b[0m \u001b[0;34m\u001b[0m\u001b[0m\n\u001b[1;32m     10\u001b[0m \u001b[0mprint\u001b[0m\u001b[0;34m(\u001b[0m\u001b[0;34m'total number of publications in 2016 which have the word\\n \"novel\" in their title or astract is'\u001b[0m\u001b[0;34m,\u001b[0m \u001b[0;36m100\u001b[0m\u001b[0;34m*\u001b[0m\u001b[0;34m(\u001b[0m\u001b[0mind\u001b[0m\u001b[0;34m)\u001b[0m\u001b[0;34m+\u001b[0m\u001b[0mlen\u001b[0m\u001b[0;34m(\u001b[0m\u001b[0md\u001b[0m\u001b[0;34m.\u001b[0m\u001b[0mentries\u001b[0m\u001b[0;34m)\u001b[0m\u001b[0;34m)\u001b[0m\u001b[0;34m\u001b[0m\u001b[0m\n",
      "\u001b[0;32m/opt/conda/lib/python3.5/site-packages/feedparser.py\u001b[0m in \u001b[0;36mparse\u001b[0;34m(url_file_stream_or_string, etag, modified, agent, referrer, handlers, request_headers, response_headers)\u001b[0m\n\u001b[1;32m   3955\u001b[0m         \u001b[0msource\u001b[0m\u001b[0;34m.\u001b[0m\u001b[0msetByteStream\u001b[0m\u001b[0;34m(\u001b[0m\u001b[0m_StringIO\u001b[0m\u001b[0;34m(\u001b[0m\u001b[0mdata\u001b[0m\u001b[0;34m)\u001b[0m\u001b[0;34m)\u001b[0m\u001b[0;34m\u001b[0m\u001b[0m\n\u001b[1;32m   3956\u001b[0m         \u001b[0;32mtry\u001b[0m\u001b[0;34m:\u001b[0m\u001b[0;34m\u001b[0m\u001b[0m\n\u001b[0;32m-> 3957\u001b[0;31m             \u001b[0msaxparser\u001b[0m\u001b[0;34m.\u001b[0m\u001b[0mparse\u001b[0m\u001b[0;34m(\u001b[0m\u001b[0msource\u001b[0m\u001b[0;34m)\u001b[0m\u001b[0;34m\u001b[0m\u001b[0m\n\u001b[0m\u001b[1;32m   3958\u001b[0m         \u001b[0;32mexcept\u001b[0m \u001b[0mxml\u001b[0m\u001b[0;34m.\u001b[0m\u001b[0msax\u001b[0m\u001b[0;34m.\u001b[0m\u001b[0mSAXException\u001b[0m \u001b[0;32mas\u001b[0m \u001b[0me\u001b[0m\u001b[0;34m:\u001b[0m\u001b[0;34m\u001b[0m\u001b[0m\n\u001b[1;32m   3959\u001b[0m             \u001b[0mresult\u001b[0m\u001b[0;34m[\u001b[0m\u001b[0;34m'bozo'\u001b[0m\u001b[0;34m]\u001b[0m \u001b[0;34m=\u001b[0m \u001b[0;36m1\u001b[0m\u001b[0;34m\u001b[0m\u001b[0m\n",
      "\u001b[0;32m/opt/conda/lib/python3.5/xml/sax/expatreader.py\u001b[0m in \u001b[0;36mparse\u001b[0;34m(self, source)\u001b[0m\n\u001b[1;32m    108\u001b[0m         \u001b[0mself\u001b[0m\u001b[0;34m.\u001b[0m\u001b[0mreset\u001b[0m\u001b[0;34m(\u001b[0m\u001b[0;34m)\u001b[0m\u001b[0;34m\u001b[0m\u001b[0m\n\u001b[1;32m    109\u001b[0m         \u001b[0mself\u001b[0m\u001b[0;34m.\u001b[0m\u001b[0m_cont_handler\u001b[0m\u001b[0;34m.\u001b[0m\u001b[0msetDocumentLocator\u001b[0m\u001b[0;34m(\u001b[0m\u001b[0mExpatLocator\u001b[0m\u001b[0;34m(\u001b[0m\u001b[0mself\u001b[0m\u001b[0;34m)\u001b[0m\u001b[0;34m)\u001b[0m\u001b[0;34m\u001b[0m\u001b[0m\n\u001b[0;32m--> 110\u001b[0;31m         \u001b[0mxmlreader\u001b[0m\u001b[0;34m.\u001b[0m\u001b[0mIncrementalParser\u001b[0m\u001b[0;34m.\u001b[0m\u001b[0mparse\u001b[0m\u001b[0;34m(\u001b[0m\u001b[0mself\u001b[0m\u001b[0;34m,\u001b[0m \u001b[0msource\u001b[0m\u001b[0;34m)\u001b[0m\u001b[0;34m\u001b[0m\u001b[0m\n\u001b[0m\u001b[1;32m    111\u001b[0m \u001b[0;34m\u001b[0m\u001b[0m\n\u001b[1;32m    112\u001b[0m     \u001b[0;32mdef\u001b[0m \u001b[0mprepareParser\u001b[0m\u001b[0;34m(\u001b[0m\u001b[0mself\u001b[0m\u001b[0;34m,\u001b[0m \u001b[0msource\u001b[0m\u001b[0;34m)\u001b[0m\u001b[0;34m:\u001b[0m\u001b[0;34m\u001b[0m\u001b[0m\n",
      "\u001b[0;32m/opt/conda/lib/python3.5/xml/sax/xmlreader.py\u001b[0m in \u001b[0;36mparse\u001b[0;34m(self, source)\u001b[0m\n\u001b[1;32m    123\u001b[0m         \u001b[0mbuffer\u001b[0m \u001b[0;34m=\u001b[0m \u001b[0mfile\u001b[0m\u001b[0;34m.\u001b[0m\u001b[0mread\u001b[0m\u001b[0;34m(\u001b[0m\u001b[0mself\u001b[0m\u001b[0;34m.\u001b[0m\u001b[0m_bufsize\u001b[0m\u001b[0;34m)\u001b[0m\u001b[0;34m\u001b[0m\u001b[0m\n\u001b[1;32m    124\u001b[0m         \u001b[0;32mwhile\u001b[0m \u001b[0mbuffer\u001b[0m\u001b[0;34m:\u001b[0m\u001b[0;34m\u001b[0m\u001b[0m\n\u001b[0;32m--> 125\u001b[0;31m             \u001b[0mself\u001b[0m\u001b[0;34m.\u001b[0m\u001b[0mfeed\u001b[0m\u001b[0;34m(\u001b[0m\u001b[0mbuffer\u001b[0m\u001b[0;34m)\u001b[0m\u001b[0;34m\u001b[0m\u001b[0m\n\u001b[0m\u001b[1;32m    126\u001b[0m             \u001b[0mbuffer\u001b[0m \u001b[0;34m=\u001b[0m \u001b[0mfile\u001b[0m\u001b[0;34m.\u001b[0m\u001b[0mread\u001b[0m\u001b[0;34m(\u001b[0m\u001b[0mself\u001b[0m\u001b[0;34m.\u001b[0m\u001b[0m_bufsize\u001b[0m\u001b[0;34m)\u001b[0m\u001b[0;34m\u001b[0m\u001b[0m\n\u001b[1;32m    127\u001b[0m         \u001b[0mself\u001b[0m\u001b[0;34m.\u001b[0m\u001b[0mclose\u001b[0m\u001b[0;34m(\u001b[0m\u001b[0;34m)\u001b[0m\u001b[0;34m\u001b[0m\u001b[0m\n",
      "\u001b[0;32m/opt/conda/lib/python3.5/xml/sax/expatreader.py\u001b[0m in \u001b[0;36mfeed\u001b[0;34m(self, data, isFinal)\u001b[0m\n\u001b[1;32m    208\u001b[0m             \u001b[0;31m# document. When feeding chunks, they are not normally final -\u001b[0m\u001b[0;34m\u001b[0m\u001b[0;34m\u001b[0m\u001b[0m\n\u001b[1;32m    209\u001b[0m             \u001b[0;31m# except when invoked from close.\u001b[0m\u001b[0;34m\u001b[0m\u001b[0;34m\u001b[0m\u001b[0m\n\u001b[0;32m--> 210\u001b[0;31m             \u001b[0mself\u001b[0m\u001b[0;34m.\u001b[0m\u001b[0m_parser\u001b[0m\u001b[0;34m.\u001b[0m\u001b[0mParse\u001b[0m\u001b[0;34m(\u001b[0m\u001b[0mdata\u001b[0m\u001b[0;34m,\u001b[0m \u001b[0misFinal\u001b[0m\u001b[0;34m)\u001b[0m\u001b[0;34m\u001b[0m\u001b[0m\n\u001b[0m\u001b[1;32m    211\u001b[0m         \u001b[0;32mexcept\u001b[0m \u001b[0mexpat\u001b[0m\u001b[0;34m.\u001b[0m\u001b[0merror\u001b[0m \u001b[0;32mas\u001b[0m \u001b[0me\u001b[0m\u001b[0;34m:\u001b[0m\u001b[0;34m\u001b[0m\u001b[0m\n\u001b[1;32m    212\u001b[0m             \u001b[0mexc\u001b[0m \u001b[0;34m=\u001b[0m \u001b[0mSAXParseException\u001b[0m\u001b[0;34m(\u001b[0m\u001b[0mexpat\u001b[0m\u001b[0;34m.\u001b[0m\u001b[0mErrorString\u001b[0m\u001b[0;34m(\u001b[0m\u001b[0me\u001b[0m\u001b[0;34m.\u001b[0m\u001b[0mcode\u001b[0m\u001b[0;34m)\u001b[0m\u001b[0;34m,\u001b[0m \u001b[0me\u001b[0m\u001b[0;34m,\u001b[0m \u001b[0mself\u001b[0m\u001b[0;34m)\u001b[0m\u001b[0;34m\u001b[0m\u001b[0m\n",
      "\u001b[0;32m/home/ilan/minonda/conda-bld/work/Python-3.5.2/Modules/pyexpat.c\u001b[0m in \u001b[0;36mStartElement\u001b[0;34m()\u001b[0m\n",
      "\u001b[0;32m/opt/conda/lib/python3.5/xml/sax/expatreader.py\u001b[0m in \u001b[0;36mstart_element_ns\u001b[0;34m(self, name, attrs)\u001b[0m\n\u001b[1;32m    357\u001b[0m \u001b[0;34m\u001b[0m\u001b[0m\n\u001b[1;32m    358\u001b[0m         self._cont_handler.startElementNS(pair, None,\n\u001b[0;32m--> 359\u001b[0;31m                                           AttributesNSImpl(newattrs, qnames))\n\u001b[0m\u001b[1;32m    360\u001b[0m \u001b[0;34m\u001b[0m\u001b[0m\n\u001b[1;32m    361\u001b[0m     \u001b[0;32mdef\u001b[0m \u001b[0mend_element_ns\u001b[0m\u001b[0;34m(\u001b[0m\u001b[0mself\u001b[0m\u001b[0;34m,\u001b[0m \u001b[0mname\u001b[0m\u001b[0;34m)\u001b[0m\u001b[0;34m:\u001b[0m\u001b[0;34m\u001b[0m\u001b[0m\n",
      "\u001b[0;32m/opt/conda/lib/python3.5/site-packages/feedparser.py\u001b[0m in \u001b[0;36mstartElementNS\u001b[0;34m(self, name, qname, attrs)\u001b[0m\n\u001b[1;32m   2030\u001b[0m                 \u001b[0mattrsD\u001b[0m\u001b[0;34m[\u001b[0m\u001b[0mstr\u001b[0m\u001b[0;34m(\u001b[0m\u001b[0mqname\u001b[0m\u001b[0;34m)\u001b[0m\u001b[0;34m.\u001b[0m\u001b[0mlower\u001b[0m\u001b[0;34m(\u001b[0m\u001b[0;34m)\u001b[0m\u001b[0;34m]\u001b[0m \u001b[0;34m=\u001b[0m \u001b[0mattrs\u001b[0m\u001b[0;34m.\u001b[0m\u001b[0mgetValueByQName\u001b[0m\u001b[0;34m(\u001b[0m\u001b[0mqname\u001b[0m\u001b[0;34m)\u001b[0m\u001b[0;34m\u001b[0m\u001b[0m\n\u001b[1;32m   2031\u001b[0m             \u001b[0mlocalname\u001b[0m \u001b[0;34m=\u001b[0m \u001b[0mstr\u001b[0m\u001b[0;34m(\u001b[0m\u001b[0mlocalname\u001b[0m\u001b[0;34m)\u001b[0m\u001b[0;34m.\u001b[0m\u001b[0mlower\u001b[0m\u001b[0;34m(\u001b[0m\u001b[0;34m)\u001b[0m\u001b[0;34m\u001b[0m\u001b[0m\n\u001b[0;32m-> 2032\u001b[0;31m             \u001b[0mself\u001b[0m\u001b[0;34m.\u001b[0m\u001b[0munknown_starttag\u001b[0m\u001b[0;34m(\u001b[0m\u001b[0mlocalname\u001b[0m\u001b[0;34m,\u001b[0m \u001b[0mlist\u001b[0m\u001b[0;34m(\u001b[0m\u001b[0mattrsD\u001b[0m\u001b[0;34m.\u001b[0m\u001b[0mitems\u001b[0m\u001b[0;34m(\u001b[0m\u001b[0;34m)\u001b[0m\u001b[0;34m)\u001b[0m\u001b[0;34m)\u001b[0m\u001b[0;34m\u001b[0m\u001b[0m\n\u001b[0m\u001b[1;32m   2033\u001b[0m \u001b[0;34m\u001b[0m\u001b[0m\n\u001b[1;32m   2034\u001b[0m         \u001b[0;32mdef\u001b[0m \u001b[0mcharacters\u001b[0m\u001b[0;34m(\u001b[0m\u001b[0mself\u001b[0m\u001b[0;34m,\u001b[0m \u001b[0mtext\u001b[0m\u001b[0;34m)\u001b[0m\u001b[0;34m:\u001b[0m\u001b[0;34m\u001b[0m\u001b[0m\n",
      "\u001b[0;32m/opt/conda/lib/python3.5/site-packages/feedparser.py\u001b[0m in \u001b[0;36munknown_starttag\u001b[0;34m(self, tag, attrs)\u001b[0m\n\u001b[1;32m    604\u001b[0m         \u001b[0;31m# uses a whitelisted URI scheme (e.g. not `javscript:`)\u001b[0m\u001b[0;34m\u001b[0m\u001b[0;34m\u001b[0m\u001b[0m\n\u001b[1;32m    605\u001b[0m         \u001b[0;32mif\u001b[0m \u001b[0mself\u001b[0m\u001b[0;34m.\u001b[0m\u001b[0mbaseuri\u001b[0m\u001b[0;34m:\u001b[0m\u001b[0;34m\u001b[0m\u001b[0m\n\u001b[0;32m--> 606\u001b[0;31m             \u001b[0mself\u001b[0m\u001b[0;34m.\u001b[0m\u001b[0mbaseuri\u001b[0m \u001b[0;34m=\u001b[0m \u001b[0m_makeSafeAbsoluteURI\u001b[0m\u001b[0;34m(\u001b[0m\u001b[0mself\u001b[0m\u001b[0;34m.\u001b[0m\u001b[0mbaseuri\u001b[0m\u001b[0;34m,\u001b[0m \u001b[0mbaseuri\u001b[0m\u001b[0;34m)\u001b[0m \u001b[0;32mor\u001b[0m \u001b[0mself\u001b[0m\u001b[0;34m.\u001b[0m\u001b[0mbaseuri\u001b[0m\u001b[0;34m\u001b[0m\u001b[0m\n\u001b[0m\u001b[1;32m    607\u001b[0m         \u001b[0;32melse\u001b[0m\u001b[0;34m:\u001b[0m\u001b[0;34m\u001b[0m\u001b[0m\n\u001b[1;32m    608\u001b[0m             \u001b[0mself\u001b[0m\u001b[0;34m.\u001b[0m\u001b[0mbaseuri\u001b[0m \u001b[0;34m=\u001b[0m \u001b[0m_urljoin\u001b[0m\u001b[0;34m(\u001b[0m\u001b[0mself\u001b[0m\u001b[0;34m.\u001b[0m\u001b[0mbaseuri\u001b[0m\u001b[0;34m,\u001b[0m \u001b[0mbaseuri\u001b[0m\u001b[0;34m)\u001b[0m\u001b[0;34m\u001b[0m\u001b[0m\n",
      "\u001b[0;32m/opt/conda/lib/python3.5/site-packages/feedparser.py\u001b[0m in \u001b[0;36m_makeSafeAbsoluteURI\u001b[0;34m(base, rel)\u001b[0m\n\u001b[1;32m   2348\u001b[0m             \u001b[0;32mreturn\u001b[0m \u001b[0mbase\u001b[0m\u001b[0;34m\u001b[0m\u001b[0m\n\u001b[1;32m   2349\u001b[0m         \u001b[0;32mreturn\u001b[0m \u001b[0;34m''\u001b[0m\u001b[0;34m\u001b[0m\u001b[0m\n\u001b[0;32m-> 2350\u001b[0;31m     \u001b[0muri\u001b[0m \u001b[0;34m=\u001b[0m \u001b[0m_urljoin\u001b[0m\u001b[0;34m(\u001b[0m\u001b[0mbase\u001b[0m\u001b[0;34m,\u001b[0m \u001b[0mrel\u001b[0m\u001b[0;34m)\u001b[0m\u001b[0;34m\u001b[0m\u001b[0m\n\u001b[0m\u001b[1;32m   2351\u001b[0m     \u001b[0;32mif\u001b[0m \u001b[0muri\u001b[0m\u001b[0;34m.\u001b[0m\u001b[0mstrip\u001b[0m\u001b[0;34m(\u001b[0m\u001b[0;34m)\u001b[0m\u001b[0;34m.\u001b[0m\u001b[0msplit\u001b[0m\u001b[0;34m(\u001b[0m\u001b[0;34m':'\u001b[0m\u001b[0;34m,\u001b[0m \u001b[0;36m1\u001b[0m\u001b[0;34m)\u001b[0m\u001b[0;34m[\u001b[0m\u001b[0;36m0\u001b[0m\u001b[0;34m]\u001b[0m \u001b[0;32mnot\u001b[0m \u001b[0;32min\u001b[0m \u001b[0mACCEPTABLE_URI_SCHEMES\u001b[0m\u001b[0;34m:\u001b[0m\u001b[0;34m\u001b[0m\u001b[0m\n\u001b[1;32m   2352\u001b[0m         \u001b[0;32mreturn\u001b[0m \u001b[0;34m''\u001b[0m\u001b[0;34m\u001b[0m\u001b[0m\n",
      "\u001b[0;32m/opt/conda/lib/python3.5/site-packages/feedparser.py\u001b[0m in \u001b[0;36m_urljoin\u001b[0;34m(base, uri)\u001b[0m\n\u001b[1;32m    436\u001b[0m \u001b[0m_urifixer\u001b[0m \u001b[0;34m=\u001b[0m \u001b[0mre\u001b[0m\u001b[0;34m.\u001b[0m\u001b[0mcompile\u001b[0m\u001b[0;34m(\u001b[0m\u001b[0;34m'^([A-Za-z][A-Za-z0-9+-.]*://)(/*)(.*?)'\u001b[0m\u001b[0;34m)\u001b[0m\u001b[0;34m\u001b[0m\u001b[0m\n\u001b[1;32m    437\u001b[0m \u001b[0;32mdef\u001b[0m \u001b[0m_urljoin\u001b[0m\u001b[0;34m(\u001b[0m\u001b[0mbase\u001b[0m\u001b[0;34m,\u001b[0m \u001b[0muri\u001b[0m\u001b[0;34m)\u001b[0m\u001b[0;34m:\u001b[0m\u001b[0;34m\u001b[0m\u001b[0m\n\u001b[0;32m--> 438\u001b[0;31m     \u001b[0muri\u001b[0m \u001b[0;34m=\u001b[0m \u001b[0m_urifixer\u001b[0m\u001b[0;34m.\u001b[0m\u001b[0msub\u001b[0m\u001b[0;34m(\u001b[0m\u001b[0;34mr'\\1\\3'\u001b[0m\u001b[0;34m,\u001b[0m \u001b[0muri\u001b[0m\u001b[0;34m)\u001b[0m\u001b[0;34m\u001b[0m\u001b[0m\n\u001b[0m\u001b[1;32m    439\u001b[0m     \u001b[0;32mif\u001b[0m \u001b[0;32mnot\u001b[0m \u001b[0misinstance\u001b[0m\u001b[0;34m(\u001b[0m\u001b[0muri\u001b[0m\u001b[0;34m,\u001b[0m \u001b[0mstr\u001b[0m\u001b[0;34m)\u001b[0m\u001b[0;34m:\u001b[0m\u001b[0;34m\u001b[0m\u001b[0m\n\u001b[1;32m    440\u001b[0m         \u001b[0muri\u001b[0m \u001b[0;34m=\u001b[0m \u001b[0muri\u001b[0m\u001b[0;34m.\u001b[0m\u001b[0mdecode\u001b[0m\u001b[0;34m(\u001b[0m\u001b[0;34m'utf-8'\u001b[0m\u001b[0;34m,\u001b[0m \u001b[0;34m'ignore'\u001b[0m\u001b[0;34m)\u001b[0m\u001b[0;34m\u001b[0m\u001b[0m\n",
      "\u001b[0;31mKeyboardInterrupt\u001b[0m: "
     ]
    }
   ],
   "source": [
    "url=fff.make_url(query,ind)\n",
    "d=feedparser.parse(url)\n",
    "print(len(d.entries))\n",
    "leng_query=1000\n",
    "while len(d.entries)==leng_query:\n",
    "    ind+=1\n",
    "    url=fff.make_url(query,leng_query*ind)\n",
    "    d=feedparser.parse(url)\n",
    "    \n",
    "print('total number of publications in 2016 which have the word\\n \"novel\" in their title or astract is', 100*(ind)+len(d.entries))\n",
    "\n",
    "#ee[0].get('title')\n"
   ]
  },
  {
   "cell_type": "code",
   "execution_count": 132,
   "metadata": {
    "collapsed": false
   },
   "outputs": [
    {
     "data": {
      "text/plain": [
       "'http://export.arxiv.org/api/query?search_query=abs:+novel+OR+ti:+novel/0/1/0/2016/0/1/&start=0&max_results=100'"
      ]
     },
     "execution_count": 132,
     "metadata": {},
     "output_type": "execute_result"
    }
   ],
   "source": [
    "url\n"
   ]
  },
  {
   "cell_type": "code",
   "execution_count": null,
   "metadata": {
    "collapsed": false
   },
   "outputs": [],
   "source": []
  },
  {
   "cell_type": "code",
   "execution_count": 131,
   "metadata": {
    "collapsed": false
   },
   "outputs": [
    {
     "name": "stdout",
     "output_type": "stream",
     "text": [
      "Large angle Beamstrahlung as a beam-beam monitoring tool\n",
      "Design and Modeling of a Mems-Based Valveless Pump Driven by an\n",
      "  Electromagnetic Force\n",
      "On the Laplacian of 1/r\n",
      "Protein Structure Determination Using Chemical Shifts\n",
      "Numerical solution to the Bloch equations, paramagnetic solutions under\n",
      "  wideband continuous radio frequency irradiation in a pulsed magnetic field\n",
      "A perturbative approach to the confinement-deconfinement phase\n",
      "  transition\n",
      "Particle Physics challenges to the Bohm Picture of Relativistic Quantum\n",
      "  Field Theory\n",
      "The Large N Harmonic Oscillator as a String Theory\n",
      "Design and Analysis of a Novel $\\mathcal{L}_1$ Adaptive Control\n",
      "  Architecture with Guaranteed Transient Performance\n",
      "Beyond the `Pentagon Identity'\n",
      "A novel isospectral deformation chain in supersymmetric quantum\n",
      "  mechanics\n",
      "WDVV Equations\n",
      "Haantjes Manifolds and Veselov Systems\n",
      "Polyhedron Volume-Ratio-based Classification for Image Recognition\n",
      "Mapping axonal density and average diameter using non-monotonic\n",
      "  time-dependent gradient-echo MRI\n",
      "Ivan Franko's novel Dlja domashnjoho ohnyshcha (For the Hearth) in the\n",
      "  light of the frequency dictionary\n",
      "Bayesian Prediction for The Winds of Winter\n",
      "Graph Kernels exploiting Weisfeiler-Lehman Graph Isomorphism Test\n",
      "  Extensions\n",
      "Wide field aplanatic two-mirror telescopes for ground-based gamma-ray\n",
      "  astronomy\n",
      "Comment on \"Novel Convective Instabilities in a Magnetic Fluid\"\n",
      "Comment on \"Classifying Novel Phases of Spinor Atoms\"\n",
      "Correlation over Decomposed Signals: A Non-Linear Approach to Fast and\n",
      "  Effective Sequences Comparison\n",
      "The Immortal Bel-Robinson Tensor\n",
      "Gravitoelectromagnetic inflation from a 5D vacuum state: a new formalism\n",
      "Special functions as structure constants for new infinite-dimensional\n",
      "  algebras\n",
      "Large N Matrix Field Theories\n",
      "A confining string theory derived from QCD\n",
      "A q-deformed Quantum Mechanics\n",
      "Divided Differences\n",
      "Combinatorial identities for binary necklaces from exact ray-splitting\n",
      "  trace formulae\n",
      "Curves and The Photon\n",
      "A Novel Scaled Boundary Finite Element Method in Computational\n",
      "  Electromagnetics\n",
      "Organization of Ecosystems in the Vicinity of a Novel Phase Transition\n",
      "Entanglement Purification through Zeno-like Measurements\n",
      "A Novel Piezoelectric Microtransformer for Autonmous Sensors\n",
      "  Applications\n",
      "Quantum Interference: an experimental proposal, and possible Engineering\n",
      "  applications\n",
      "General method of solution of Schwinger-Dyson equations in Minkowski\n",
      "  space\n",
      "The quantum spin Hall effect and topological insulators\n",
      "Using electrowetting to control interface motion in patterned\n",
      "  microchannels\n",
      "Scaling conditional tail probability and quantile estimators\n",
      "Modelling outliers and structural breaks in dynamic linear models with a\n",
      "  novel use of a heavy tailed prior for the variances: An alternative to the\n",
      "  Inverted Gamma\n",
      "On a Variation of the Definition of Limit: Some Analytic Consequences\n",
      "A novel type of spiral wave with trapped ions\n",
      "Glass-forming photoactive cholesteric materials doped by quantum dots:\n",
      "  phototunable circularly-polarized emission\n",
      "Massless particles and arrow of time in relativistic quantum field\n",
      "  theory\n",
      "Symmetry problem\n",
      "Hydex waveguides for nonlinear optics\n",
      "Fast, memory efficient low-rank approximation of SimRank\n",
      "GPU accelerated image reconstruction in a two-strip J-PET tomograph\n",
      "Exploiting Correlation among Data Items for Cache Replacement in Ad-hoc\n",
      "  Networks\n",
      "Thermodynamic expansion to arbitrary moduli\n",
      "Novel nonlinear kinetic terms for gravitons\n",
      "Comment on decoherence by time dilation\n",
      "Separating Topological Noise from Features using Persistent Entropy\n",
      "Exotic Quantum Order in Low-Dimensional Systems\n",
      "Fractional-flux vortices and spin superfluidity in triplet\n",
      "  superconductors\n",
      "Noise in Disordered Systems: Higher Order Spectra in Avalanche Models\n",
      "Quadratic solitons as nonlocal solitons\n",
      "Strange Disoriented Chiral Condensate\n",
      "Control momentum entanglement with atomic spontaneously generated\n",
      "  coherence\n",
      "Atom--photon momentum entanglement with quantum interference\n",
      "Drug-therapy networks and the predictions of novel drug targets\n",
      "Equations for hidden Markov models\n",
      "Coherent-state phase concentration by quantum probabilistic\n",
      "  amplification\n",
      "Non-volatile Complementary Resistive Switch-based Content Addressable\n",
      "  Memory\n",
      "Analytic Continuation of weighted q-Genocchi numbers and polynomials\n",
      "Planning of Cellular Networks Enhanced by Energy Harvesting\n",
      "Perceptron Mistake Bounds\n",
      "Color entanglement for $γ$-jet production in polarized pA\n",
      "  collisions\n",
      "Comparing Writing Styles using Word Embedding and Dynamic Time Warping\n",
      "Matroid Filtrations and Computational Persistent Homology\n",
      "Learning like a Child: Fast Novel Visual Concept Learning from Sentence\n",
      "  Descriptions of Images\n",
      "Quantum superposition of multiple clones and the novel cloning machine\n",
      "A Derivative-Free Approach to Total Variation Regularization\n",
      "Wave Energy Amplification in a Metamaterial based Traveling Wave\n",
      "  Structure\n",
      "Anisotropic magnetoresistance in topological insulator\n",
      "  Bi1.5Sb0.5Te1.8Se1.2/CoFe heterostructures\n",
      "On the graph-theoretical interpretation of Pearson correlations in a\n",
      "  multivariate process and a novel partial correlation measure\n",
      "Pose Induction for Novel Object Categories\n",
      "Noise Robustness of a Combined Phase Retrieval and Reconstruction Method\n",
      "  for Phase-Contrast Tomography\n",
      "Parallel Metropolis chains with cooperative adaptation\n",
      "The Nature of Dark Matter\n",
      "The Dark Side of the Universe\n",
      "Neutron Star Masses, Radii and Equation of State\n",
      "Diffusive conductors as Andreev interferometers\n",
      "High Temperature Superconductivity\n",
      "The Gradient Expansion for the Free-Energy of a Clean Superconductor\n",
      "Ground-State Properties of the Two-Band Model for Halogen-Bridged Metal\n",
      "  Complexes\n",
      "The dimer-RVB State of the Four-Leg Heisenberg Ladder: Interference\n",
      "  among Resonances\n",
      "Q-Factor Measurement of Nonlinear Superconducting Resonators\n",
      "Broken Symmetry and Josephson-like Tunneling in Quantum Hall Bilayers\n",
      "Superstring representation of Hubbard model\n",
      "Large grain boundary area superconductors\n",
      "Dephasing of Atomic Tunneling by Nuclear Quadrupoles\n",
      "Approaches to Network Classification\n",
      "A Novel Approach Applied to the Largest Clique Problem\n",
      "Generation of spatially-separated spin entanglement in a triple quantum\n",
      "  dot system\n",
      "Inhomogeneous superconductivity and the \"pseudogap state of novel\n",
      "  superconductors\n",
      "All Superlinear Inverse Schemes are coNP-Hard\n",
      "Statistical Parameters of the Novel \"Perekhresni stezhky\" (\"The\n",
      "  Cross-Paths\") by Ivan Franko\n",
      "Finding Cliques of a Graph using Prime Numbers\n"
     ]
    }
   ],
   "source": [
    "\n",
    "\n",
    "d=feedparser.parse(url)\n",
    "for i in range(100):\n",
    "    print(d.entries[i].title)"
   ]
  },
  {
   "cell_type": "code",
   "execution_count": 117,
   "metadata": {
    "collapsed": false
   },
   "outputs": [],
   "source": [
    "import functions"
   ]
  },
  {
   "cell_type": "code",
   "execution_count": 118,
   "metadata": {
    "collapsed": false
   },
   "outputs": [
    {
     "ename": "AttributeError",
     "evalue": "module 'functions' has no attribute 'area'",
     "output_type": "error",
     "traceback": [
      "\u001b[0;31m---------------------------------------------------------------------------\u001b[0m",
      "\u001b[0;31mAttributeError\u001b[0m                            Traceback (most recent call last)",
      "\u001b[0;32m<ipython-input-118-09eadd8319be>\u001b[0m in \u001b[0;36m<module>\u001b[0;34m()\u001b[0m\n\u001b[0;32m----> 1\u001b[0;31m \u001b[0mfunctions\u001b[0m\u001b[0;34m.\u001b[0m\u001b[0marea\u001b[0m\u001b[0;34m(\u001b[0m\u001b[0;36m1\u001b[0m\u001b[0;34m)\u001b[0m\u001b[0;34m\u001b[0m\u001b[0m\n\u001b[0m",
      "\u001b[0;31mAttributeError\u001b[0m: module 'functions' has no attribute 'area'"
     ]
    }
   ],
   "source": []
  },
  {
   "cell_type": "code",
   "execution_count": null,
   "metadata": {
    "collapsed": true
   },
   "outputs": [],
   "source": []
  }
 ],
 "metadata": {
  "anaconda-cloud": {},
  "kernelspec": {
   "display_name": "Python [default]",
   "language": "python",
   "name": "python3"
  },
  "language_info": {
   "codemirror_mode": {
    "name": "ipython",
    "version": 3
   },
   "file_extension": ".py",
   "mimetype": "text/x-python",
   "name": "python",
   "nbconvert_exporter": "python",
   "pygments_lexer": "ipython3",
   "version": "3.5.2"
  }
 },
 "nbformat": 4,
 "nbformat_minor": 1
}
